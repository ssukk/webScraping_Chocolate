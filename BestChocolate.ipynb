{
 "cells": [
  {
   "cell_type": "markdown",
   "metadata": {},
   "source": [
    "# Web Scraping with Beautiful Soup - Chocolate"
   ]
  },
  {
   "cell_type": "markdown",
   "metadata": {},
   "source": [
    "## Introduction\n",
    "While crafting Dubai chocolate, I discovered the importance of cocoa butter content for achieving that satisfying snap. This sparked my curiosity about how different chocolates are rated and what factors contribute to making a great chocolate. Additionally, I wanted to know which chocolate is considered the best in the world."
   ]
  },
  {
   "cell_type": "markdown",
   "metadata": {},
   "source": [
    "## Web Scraping"
   ]
  },
  {
   "cell_type": "markdown",
   "metadata": {},
   "source": [
    "### 1. Identify target website\n",
    "**Target website: https://content.codecademy.com/courses/beautifulsoup/cacao/index.html**\n",
    "* This website that has over 1700 reviews of chocolate bars from all around the world\n",
    "* The data is displayed in a table, instead of in a `csv` or `json`.  \n",
    "* I'll be transforming this webpage into a DataFrame to manipulate and analyze data using `BeautifulSoup`.\n",
    "* I'll be analyzing data using `Pandas`, `Matplotlib`, and `Numpy`\n",
    "* The rating scale is from 1-5, as described in <a href=\"http://flavorsofcacao.com/review_guide.html\">this review guide</a>. \n",
    "* List of Tags to Include: td with different classes"
   ]
  },
  {
   "cell_type": "markdown",
   "metadata": {},
   "source": [
    "### 2. Environment Setup\n",
    "#### Import necessary libraries"
   ]
  },
  {
   "cell_type": "code",
   "execution_count": 1,
   "metadata": {},
   "outputs": [],
   "source": [
    "from bs4 import BeautifulSoup\n",
    "import requests\n",
    "import pandas as pd\n",
    "import matplotlib.pyplot as plt\n",
    "import numpy as np"
   ]
  },
  {
   "cell_type": "markdown",
   "metadata": {},
   "source": [
    "### 3. Fetch the Website"
   ]
  },
  {
   "cell_type": "code",
   "execution_count": 2,
   "metadata": {},
   "outputs": [],
   "source": [
    "webpage = requests.get('https://content.codecademy.com/courses/beautifulsoup/cacao/index.html')"
   ]
  },
  {
   "cell_type": "markdown",
   "metadata": {},
   "source": [
    "### 4. Parse the HTML Content"
   ]
  },
  {
   "cell_type": "code",
   "execution_count": 3,
   "metadata": {},
   "outputs": [],
   "source": [
    "soup = BeautifulSoup(webpage.content, \"html.parser\") #return html"
   ]
  },
  {
   "cell_type": "markdown",
   "metadata": {},
   "source": [
    "### 5. Data Extracting and Storing\n",
    "#### Rating"
   ]
  },
  {
   "cell_type": "code",
   "execution_count": 4,
   "metadata": {},
   "outputs": [],
   "source": [
    "rating_tags = soup.find_all(attrs={\"class\": \"Rating\"})\n",
    "ratings = []\n",
    "for tag in rating_tags[1:]:\n",
    "  rating = float(tag.get_text())\n",
    "  ratings.append(rating)"
   ]
  },
  {
   "cell_type": "markdown",
   "metadata": {},
   "source": [
    "#### Company"
   ]
  },
  {
   "cell_type": "code",
   "execution_count": 5,
   "metadata": {},
   "outputs": [],
   "source": [
    "company_tags = soup.find_all(attrs={\"class\": \"Company\"})\n",
    "companies = []\n",
    "for tag in company_tags[1:]:\n",
    "  company = tag.get_text()\n",
    "  companies.append(company)"
   ]
  },
  {
   "cell_type": "markdown",
   "metadata": {},
   "source": [
    "#### Cocoa Percent"
   ]
  },
  {
   "cell_type": "code",
   "execution_count": 6,
   "metadata": {},
   "outputs": [],
   "source": [
    "cocoa_tags = soup.find_all(attrs={\"class\": \"CocoaPercent\"})\n",
    "cocoa_percent = []\n",
    "for tag in cocoa_tags[1:]:\n",
    "  cocoa = float(tag.get_text().strip('%'))\n",
    "  cocoa_percent.append(cocoa)"
   ]
  },
  {
   "cell_type": "markdown",
   "metadata": {},
   "source": [
    "#### Bean Origin"
   ]
  },
  {
   "cell_type": "code",
   "execution_count": 7,
   "metadata": {},
   "outputs": [],
   "source": [
    "origin_tags = soup.find_all(attrs={\"class\": \"BroadBeanOrigin\"})\n",
    "origins = []\n",
    "for tag in origin_tags[1:]:\n",
    "  origin = tag.get_text()\n",
    "  origins.append(origin)"
   ]
  },
  {
   "cell_type": "markdown",
   "metadata": {},
   "source": [
    "#### Company Location"
   ]
  },
  {
   "cell_type": "code",
   "execution_count": 8,
   "metadata": {},
   "outputs": [],
   "source": [
    "location_tags = soup.find_all(attrs={\"class\": \"CompanyLocation\"})\n",
    "locations = []\n",
    "for tag in location_tags[1:]:\n",
    "  location = tag.get_text()\n",
    "  locations.append(location)"
   ]
  },
  {
   "cell_type": "markdown",
   "metadata": {},
   "source": [
    "#### Dataframe"
   ]
  },
  {
   "cell_type": "code",
   "execution_count": 9,
   "metadata": {},
   "outputs": [],
   "source": [
    "dic = {\"Company\": companies, \"Rating\": ratings, \"CocoaPercentage\": cocoa_percent, \"Origin\": origins, \"CompanyLocation\":locations}\n",
    "df = pd.DataFrame.from_dict(dic)\n",
    "df = df.drop_duplicates()"
   ]
  },
  {
   "cell_type": "markdown",
   "metadata": {},
   "source": [
    "## Data Exploration"
   ]
  },
  {
   "cell_type": "markdown",
   "metadata": {},
   "source": [
    "### Rating Distribution"
   ]
  },
  {
   "cell_type": "code",
   "execution_count": 10,
   "metadata": {},
   "outputs": [
    {
     "data": {
      "image/png": "[encoded data removed]",
      "text/plain": [
       "<Figure size 432x288 with 1 Axes>"
      ]
     },
     "metadata": {
      "needs_background": "light"
     },
     "output_type": "display_data"
    }
   ],
   "source": [
    "plt.hist(ratings)\n",
    "plt.show()"
   ]
  },
  {
   "cell_type": "markdown",
   "metadata": {},
   "source": [
    "##### A `1` is \"unpleasant\" chocolate, while a `5` is a bar that transcends \"beyond the ordinary limits\"."
   ]
  },
  {
   "cell_type": "code",
   "execution_count": 11,
   "metadata": {},
   "outputs": [
    {
     "name": "stdout",
     "output_type": "stream",
     "text": [
      "78    5.0\n",
      "86    5.0\n",
      "9     4.0\n",
      "17    4.0\n",
      "20    4.0\n",
      "54    4.0\n",
      "56    4.0\n",
      "76    4.0\n",
      "77    4.0\n",
      "83    4.0\n",
      "Name: Rating, dtype: float64\n"
     ]
    }
   ],
   "source": [
    "ten_best = df.Rating.nlargest(10)\n",
    "print(ten_best)"
   ]
  },
  {
   "cell_type": "code",
   "execution_count": 12,
   "metadata": {},
   "outputs": [
    {
     "data": {
      "text/html": [
       "<div>\n",
       "<style scoped>\n",
       "    .dataframe tbody tr th:only-of-type {\n",
       "        vertical-align: middle;\n",
       "    }\n",
       "\n",
       "    .dataframe tbody tr th {\n",
       "        vertical-align: top;\n",
       "    }\n",
       "\n",
       "    .dataframe thead th {\n",
       "        text-align: right;\n",
       "    }\n",
       "</style>\n",
       "<table border=\"1\" class=\"dataframe\">\n",
       "  <thead>\n",
       "    <tr style=\"text-align: right;\">\n",
       "      <th></th>\n",
       "      <th>Company</th>\n",
       "      <th>Rating</th>\n",
       "      <th>CocoaPercentage</th>\n",
       "      <th>Origin</th>\n",
       "      <th>CompanyLocation</th>\n",
       "    </tr>\n",
       "  </thead>\n",
       "  <tbody>\n",
       "    <tr>\n",
       "      <th>78</th>\n",
       "      <td>Amedei</td>\n",
       "      <td>5.0</td>\n",
       "      <td>70.0</td>\n",
       "      <td>Venezuela</td>\n",
       "      <td>Italy</td>\n",
       "    </tr>\n",
       "    <tr>\n",
       "      <th>86</th>\n",
       "      <td>Amedei</td>\n",
       "      <td>5.0</td>\n",
       "      <td>70.0</td>\n",
       "      <td></td>\n",
       "      <td>Italy</td>\n",
       "    </tr>\n",
       "  </tbody>\n",
       "</table>\n",
       "</div>"
      ],
      "text/plain": [
       "   Company  Rating  CocoaPercentage     Origin CompanyLocation\n",
       "78  Amedei     5.0             70.0  Venezuela           Italy\n",
       "86  Amedei     5.0             70.0                      Italy"
      ]
     },
     "execution_count": 12,
     "metadata": {},
     "output_type": "execute_result"
    }
   ],
   "source": [
    "df[df['Rating']==5.0]"
   ]
  },
  {
   "cell_type": "markdown",
   "metadata": {},
   "source": [
    "### Which chocolatier makes the best chocolate?"
   ]
  },
  {
   "cell_type": "markdown",
   "metadata": {},
   "source": [
    "find the 10 most highly rated chocolatiers"
   ]
  },
  {
   "cell_type": "code",
   "execution_count": 13,
   "metadata": {},
   "outputs": [
    {
     "name": "stdout",
     "output_type": "stream",
     "text": [
      "Company\n",
      "Tobago Estate (Pralus)                  4.000000\n",
      "Heirloom Cacao Preservation (Zokoko)    3.875000\n",
      "Ocelot                                  3.875000\n",
      "Amedei                                  3.846154\n",
      "Matale                                  3.812500\n",
      "Patric                                  3.791667\n",
      "Acalli                                  3.750000\n",
      "Benoit Nihant                           3.750000\n",
      "Chocola'te                              3.750000\n",
      "Christopher Morel (Felchlin)            3.750000\n",
      "Name: Rating, dtype: float64\n"
     ]
    }
   ],
   "source": [
    "avg_rating = df.groupby('Company').Rating.mean()\n",
    "ten_best = avg_rating.nlargest(10)\n",
    "print(ten_best)"
   ]
  },
  {
   "cell_type": "markdown",
   "metadata": {},
   "source": [
    "### Is more cocoa better?"
   ]
  },
  {
   "cell_type": "markdown",
   "metadata": {},
   "source": [
    "to see if the chocolate experts tend to rate chocolate bars with higher levels of cacoa to be better than those with lower levels of cacoa."
   ]
  },
  {
   "cell_type": "code",
   "execution_count": 14,
   "metadata": {},
   "outputs": [
    {
     "data": {
      "image/png": "[encoded data removed]",
      "text/plain": [
       "<Figure size 432x288 with 1 Axes>"
      ]
     },
     "metadata": {
      "needs_background": "light"
     },
     "output_type": "display_data"
    }
   ],
   "source": [
    "plt.clf() # to clear figures\n",
    "plt.scatter(df.CocoaPercentage, df.Rating)\n",
    "\n",
    "# Best fit line\n",
    "z = np.polyfit(df.CocoaPercentage, df.Rating, 1)\n",
    "line_function = np.poly1d(z)\n",
    "plt.plot(df.CocoaPercentage, line_function(df.CocoaPercentage), \"r--\")\n",
    "plt.title('Ralations between Cocoa Percentage and Rating')\n",
    "plt.xlabel('Cocoa Percentage')\n",
    "plt.ylabel('Rating')\n",
    "plt.show()"
   ]
  },
  {
   "cell_type": "markdown",
   "metadata": {},
   "source": [
    "### Where are the best cocoa beans grown? "
   ]
  },
  {
   "cell_type": "code",
   "execution_count": 15,
   "metadata": {},
   "outputs": [
    {
     "name": "stdout",
     "output_type": "stream",
     "text": [
      "Origin\n",
      "Peru, Ecuador                   99.000000\n",
      "Guat., D.R., Peru, Mad., PNG    88.000000\n",
      "Samoa                           85.000000\n",
      "Venezuela/ Ghana                85.000000\n",
      "Sao Tome & Principe             79.357143\n",
      "Central and S. America          78.000000\n",
      "Principe                        77.000000\n",
      "Carribean                       76.250000\n",
      "El Salvador                     75.000000\n",
      "Gabon                           75.000000\n",
      "Name: CocoaPercentage, dtype: float64\n"
     ]
    }
   ],
   "source": [
    "avg_percentage = df.groupby('Origin').CocoaPercentage.mean()\n",
    "ten_best = avg_percentage.nlargest(10)\n",
    "print(ten_best)"
   ]
  },
  {
   "cell_type": "markdown",
   "metadata": {},
   "source": [
    "### Which countries produce the highest-rated bars?"
   ]
  },
  {
   "cell_type": "code",
   "execution_count": 16,
   "metadata": {},
   "outputs": [
    {
     "name": "stdout",
     "output_type": "stream",
     "text": [
      "CompanyLocation\n",
      "Chile          3.750000\n",
      "Amsterdam      3.500000\n",
      "Netherlands    3.500000\n",
      "Philippines    3.500000\n",
      "Iceland        3.416667\n",
      "Vietnam        3.409091\n",
      "Brazil         3.397059\n",
      "Poland         3.375000\n",
      "Guatemala      3.350000\n",
      "Australia      3.348958\n",
      "Name: Rating, dtype: float64\n"
     ]
    }
   ],
   "source": [
    "avg_rating = df.groupby('CompanyLocation').Rating.mean()\n",
    "ten_best = avg_rating.nlargest(10)\n",
    "print(ten_best)"
   ]
  },
  {
   "cell_type": "code",
   "execution_count": 17,
   "metadata": {},
   "outputs": [
    {
     "data": {
      "image/png": "[encoded data removed]",
      "text/plain": [
       "<Figure size 1296x432 with 1 Axes>"
      ]
     },
     "metadata": {
      "needs_background": "light"
     },
     "output_type": "display_data"
    }
   ],
   "source": [
    "plt.figure(figsize=(18, 6))\n",
    "value_counts = df['CompanyLocation'].value_counts()\n",
    "value_counts.plot(kind='bar')\n",
    "plt.title('Which country makes the most chocolate')\n",
    "plt.xlabel('Country')\n",
    "plt.ylabel('Chocolate bar counts')\n",
    "plt.xticks(rotation=90)\n",
    "plt.show()"
   ]
  },
  {
   "cell_type": "markdown",
   "metadata": {},
   "source": [
    "## Conclusion\n",
    "While the United States dominates chocolate bar production, the world's highest-rated bar hails from Italy, crafted by Amedei using Venezuelan cocoa beans with 70% cocoa content. However, my research reveals no clear correlation between chocolate bar ratings and factors like cocoa percentage, bean origin, or even the chocolate maker's reputation. This suggests that defining a \"good\" chocolate bar involves a more complex interplay of elements beyond these easily quantifiable attributes."
   ]
  }
 ],
 "metadata": {
  "kernelspec": {
   "display_name": "Python 3",
   "language": "python",
   "name": "python3"
  },
  "language_info": {
   "codemirror_mode": {
    "name": "ipython",
    "version": 3
   },
   "file_extension": ".py",
   "mimetype": "text/x-python",
   "name": "python",
   "nbconvert_exporter": "python",
   "pygments_lexer": "ipython3",
   "version": "3.8.8"
  }
 },
 "nbformat": 4,
 "nbformat_minor": 2
}
